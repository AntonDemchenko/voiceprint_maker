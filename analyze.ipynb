{
 "cells": [
  {
   "cell_type": "code",
   "execution_count": null,
   "metadata": {},
   "outputs": [],
   "source": [
    "import os\n",
    "\n",
    "import pandas as pd\n",
    "import matplotlib.pyplot as plt\n",
    "%matplotlib inline\n",
    "\n",
    "FOLDER = '10_epochs'\n",
    "RESULT_PATH = os.path.join(FOLDER, 'tuning_results.csv')"
   ]
  },
  {
   "cell_type": "code",
   "execution_count": null,
   "metadata": {},
   "outputs": [],
   "source": [
    "original_df = pd.read_csv(RESULT_PATH)\n",
    "original_df.sort_values('val_acc', ascending=False).head()"
   ]
  },
  {
   "cell_type": "code",
   "execution_count": null,
   "metadata": {},
   "outputs": [],
   "source": [
    "def create_norm_column(df, layer_column, batch_column):\n",
    "    series = pd.Series(data=['' for _ in range(len(df))])\n",
    "    series[df[layer_column]] = 'layer'\n",
    "    series[df[batch_column]] = 'batch'\n",
    "    series[series == ''] = 'none'\n",
    "    return series\n",
    "\n",
    "df = original_df.copy()\n",
    "df['class_norm'] = create_norm_column(df, 'class_use_laynorm_inp', 'class_use_batchnorm_inp')\n",
    "df['fc_norm'] = create_norm_column(df, 'fc_use_laynorm_inp', 'fc_use_batchnorm_inp')\n",
    "df['fc_norm'] += ',' + create_norm_column(df, 'fc_use_laynorm', 'fc_use_batchnorm')\n",
    "df['cnn_norm'] = create_norm_column(df, 'cnn_use_laynorm_inp', 'cnn_use_batchnorm_inp')\n",
    "df['cnn_norm'] += ',' + create_norm_column(df, 'cnn_use_laynorm', 'cnn_use_batchnorm')\n",
    "\n",
    "boolean_columns = list(filter(lambda c: '_use_' in c, df.columns))\n",
    "df = df.drop(columns=boolean_columns)\n",
    "df = df[[\n",
    "    'uid',\n",
    "    'cnn_norm', 'cnn_drop', 'cnn_act',\n",
    "    'fc_norm', 'fc_lay', 'fc_drop', 'fc_act',\n",
    "    'class_norm', 'lr', 'optimizer',\n",
    "    'train_acc', 'val_acc'\n",
    "]]\n",
    "df['rel_diff'] = abs(df['train_acc'] - df['val_acc']) / df[['train_acc', 'val_acc']].max(axis=1)\n",
    "df = df.sort_values('val_acc', ascending=False)"
   ]
  },
  {
   "cell_type": "code",
   "execution_count": null,
   "metadata": {},
   "outputs": [],
   "source": [
    "df.head()"
   ]
  },
  {
   "cell_type": "code",
   "execution_count": null,
   "metadata": {},
   "outputs": [],
   "source": [
    "df.tail()"
   ]
  },
  {
   "cell_type": "code",
   "execution_count": null,
   "metadata": {},
   "outputs": [],
   "source": [
    "df[df['cnn_norm'].map(lambda n: n.startswith('layer,'))]"
   ]
  },
  {
   "cell_type": "code",
   "execution_count": null,
   "metadata": {},
   "outputs": [],
   "source": [
    "def draw_loss_acc_plots(uid):\n",
    "    log_path = os.path.join(FOLDER, uid, 'log.csv')\n",
    "    plot_df = pd.read_csv(log_path)\n",
    "    fig, axs = plt.subplots(2, sharex=True)\n",
    "    fig.suptitle(uid[:8])\n",
    "    for value, ax in zip(['accuracy', 'loss'], axs):\n",
    "        ax.plot(plot_df[value], label='train')\n",
    "        ax.plot(plot_df['val_{}'.format(value)], label='val')\n",
    "        ax.set(xlabel='epochs', ylabel=value)\n",
    "        ax.legend()\n",
    "    plt.show()\n",
    "\n",
    "\n",
    "for uid in df['uid'].tail(20):\n",
    "    draw_loss_acc_plots(uid)"
   ]
  }
 ],
 "metadata": {
  "language_info": {
   "codemirror_mode": {
    "name": "ipython",
    "version": 3
   },
   "file_extension": ".py",
   "mimetype": "text/x-python",
   "name": "python",
   "nbconvert_exporter": "python",
   "pygments_lexer": "ipython3",
   "version": "3.6.9-final"
  },
  "orig_nbformat": 2,
  "kernelspec": {
   "name": "python36964bitvenvvenv12e540a70eff4679b6851610e1e47c3c",
   "display_name": "Python 3.6.9 64-bit ('venv': venv)"
  }
 },
 "nbformat": 4,
 "nbformat_minor": 2
}